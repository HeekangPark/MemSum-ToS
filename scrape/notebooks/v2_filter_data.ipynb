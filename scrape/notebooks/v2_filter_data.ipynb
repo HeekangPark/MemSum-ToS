{
 "cells": [
  {
   "cell_type": "markdown",
   "metadata": {},
   "source": [
    "# Remove sentences with only 1 word"
   ]
  },
  {
   "cell_type": "code",
   "execution_count": 12,
   "metadata": {},
   "outputs": [],
   "source": [
    "import pickle\n",
    "import os\n",
    "import pandas as pd\n",
    "from tqdm import tqdm\n",
    "from string import punctuation\n",
    "from sacremoses import MosesTokenizer\n",
    "from collections import defaultdict\n",
    "\n",
    "punctuation_to_remove = punctuation.replace(\"'\", \"\").replace(\"-\", \"\")\n",
    "tokenizer = MosesTokenizer(lang='en')\n",
    "\n",
    "def dump_pickle(file_path, object):\n",
    "    with open(file_path, 'wb') as handle:\n",
    "        pickle.dump(object, handle)\n",
    "\n",
    "def load_pickle(file_path):\n",
    "    with open(file_path, 'rb') as handle:\n",
    "        object = pickle.load(handle)\n",
    "    return object\n",
    "\n",
    "\n",
    "def filter_remove_1word():\n",
    "    PICKLE_PATH = \"../pickles\"\n",
    "    filtered_data = []\n",
    "    \n",
    "    for _, _, files in os.walk(PICKLE_PATH):\n",
    "        for file in sorted(files):\n",
    "            if file.startswith(\"tosdr_block\"):\n",
    "                print(\"Processing\", file)\n",
    "                block_dicts = load_pickle(PICKLE_PATH + '/' + file)\n",
    "                for block_dict in tqdm(block_dicts):\n",
    "                    text = block_dict[\"text\"]\n",
    "                    summary = block_dict[\"summary\"]\n",
    "                    \n",
    "                    filtered_text = []\n",
    "                    for sent in text:\n",
    "                        words_per_sent = tokenizer.tokenize(sent.translate(str.maketrans('', '', punctuation_to_remove)))\n",
    "                        if len(words_per_sent) > 1:\n",
    "                            filtered_text.append(sent)\n",
    "                    \n",
    "                    filtered_summary = []\n",
    "                    for sent in summary:\n",
    "                        words_per_sent = tokenizer.tokenize(sent.translate(str.maketrans('', '', punctuation_to_remove)))\n",
    "                        if len(words_per_sent) > 1:\n",
    "                            filtered_summary.append(sent)\n",
    "                            \n",
    "                    filtered_data.append({\"text\": filtered_text,\n",
    "                                          \"summary\": filtered_summary})\n",
    "    dump_pickle(PICKLE_PATH + '/tosdr_v2_removed_1word.pickle', filtered_data)\n",
    "                    "
   ]
  },
  {
   "cell_type": "code",
   "execution_count": 13,
   "metadata": {},
   "outputs": [
    {
     "name": "stdout",
     "output_type": "stream",
     "text": [
      "Processing tosdr_block_0.pickle\n"
     ]
    },
    {
     "name": "stderr",
     "output_type": "stream",
     "text": [
      "100%|██████████| 180/180 [00:03<00:00, 51.31it/s]\n"
     ]
    },
    {
     "name": "stdout",
     "output_type": "stream",
     "text": [
      "Processing tosdr_block_1.pickle\n"
     ]
    },
    {
     "name": "stderr",
     "output_type": "stream",
     "text": [
      "100%|██████████| 158/158 [00:02<00:00, 57.85it/s]\n"
     ]
    },
    {
     "name": "stdout",
     "output_type": "stream",
     "text": [
      "Processing tosdr_block_10.pickle\n"
     ]
    },
    {
     "name": "stderr",
     "output_type": "stream",
     "text": [
      "100%|██████████| 153/153 [00:02<00:00, 51.40it/s]\n"
     ]
    },
    {
     "name": "stdout",
     "output_type": "stream",
     "text": [
      "Processing tosdr_block_11.pickle\n"
     ]
    },
    {
     "name": "stderr",
     "output_type": "stream",
     "text": [
      "100%|██████████| 129/129 [00:01<00:00, 83.93it/s]\n"
     ]
    },
    {
     "name": "stdout",
     "output_type": "stream",
     "text": [
      "Processing tosdr_block_12.pickle\n"
     ]
    },
    {
     "name": "stderr",
     "output_type": "stream",
     "text": [
      "100%|██████████| 116/116 [00:01<00:00, 73.54it/s]\n"
     ]
    },
    {
     "name": "stdout",
     "output_type": "stream",
     "text": [
      "Processing tosdr_block_2.pickle\n"
     ]
    },
    {
     "name": "stderr",
     "output_type": "stream",
     "text": [
      "100%|██████████| 169/169 [00:02<00:00, 66.89it/s]\n"
     ]
    },
    {
     "name": "stdout",
     "output_type": "stream",
     "text": [
      "Processing tosdr_block_3.pickle\n"
     ]
    },
    {
     "name": "stderr",
     "output_type": "stream",
     "text": [
      "100%|██████████| 153/153 [00:03<00:00, 41.69it/s]\n"
     ]
    },
    {
     "name": "stdout",
     "output_type": "stream",
     "text": [
      "Processing tosdr_block_4.pickle\n"
     ]
    },
    {
     "name": "stderr",
     "output_type": "stream",
     "text": [
      "100%|██████████| 154/154 [00:02<00:00, 68.99it/s]\n"
     ]
    },
    {
     "name": "stdout",
     "output_type": "stream",
     "text": [
      "Processing tosdr_block_5.pickle\n"
     ]
    },
    {
     "name": "stderr",
     "output_type": "stream",
     "text": [
      "100%|██████████| 153/153 [00:02<00:00, 64.85it/s]\n"
     ]
    },
    {
     "name": "stdout",
     "output_type": "stream",
     "text": [
      "Processing tosdr_block_6.pickle\n"
     ]
    },
    {
     "name": "stderr",
     "output_type": "stream",
     "text": [
      "100%|██████████| 165/165 [00:02<00:00, 60.82it/s]\n"
     ]
    },
    {
     "name": "stdout",
     "output_type": "stream",
     "text": [
      "Processing tosdr_block_7.pickle\n"
     ]
    },
    {
     "name": "stderr",
     "output_type": "stream",
     "text": [
      "100%|██████████| 188/188 [00:02<00:00, 68.35it/s]\n"
     ]
    },
    {
     "name": "stdout",
     "output_type": "stream",
     "text": [
      "Processing tosdr_block_8.pickle\n"
     ]
    },
    {
     "name": "stderr",
     "output_type": "stream",
     "text": [
      "100%|██████████| 166/166 [00:02<00:00, 73.11it/s]\n"
     ]
    },
    {
     "name": "stdout",
     "output_type": "stream",
     "text": [
      "Processing tosdr_block_9.pickle\n"
     ]
    },
    {
     "name": "stderr",
     "output_type": "stream",
     "text": [
      "100%|██████████| 175/175 [00:03<00:00, 57.52it/s]\n"
     ]
    }
   ],
   "source": [
    "filter_remove_1word()"
   ]
  },
  {
   "cell_type": "code",
   "execution_count": 14,
   "metadata": {},
   "outputs": [
    {
     "name": "stderr",
     "output_type": "stream",
     "text": [
      "100%|██████████| 2059/2059 [00:00<00:00, 1782470.99it/s]\n"
     ]
    }
   ],
   "source": [
    "dicts = load_pickle(\"../pickles/tosdr_v2_removed_1word.pickle\")\n",
    "stats = []\n",
    "for i, block_dict in enumerate(tqdm(dicts)):\n",
    "    text = block_dict[\"text\"]\n",
    "    summary = block_dict[\"summary\"]\n",
    "    len_text, len_summary = len(text), len(summary)\n",
    "    \n",
    "    stats.append({ \n",
    "                    \"idx_in_block\": i, \n",
    "                    \"num_sent_text\": len_text, \n",
    "                    \"num_sent_summary\": len_summary,\n",
    "                    \"sent_ratio\": len_summary / len_text,\n",
    "                    })\n",
    "                    \n",
    "main_df = pd.DataFrame.from_records(stats)\n",
    "dump_pickle('../pickles/tosdr_stats_v2_main_df.pickle', main_df)"
   ]
  },
  {
   "cell_type": "markdown",
   "metadata": {},
   "source": [
    "# Remove outliers"
   ]
  },
  {
   "cell_type": "code",
   "execution_count": 15,
   "metadata": {},
   "outputs": [
    {
     "data": {
      "text/html": [
       "<div>\n",
       "<style scoped>\n",
       "    .dataframe tbody tr th:only-of-type {\n",
       "        vertical-align: middle;\n",
       "    }\n",
       "\n",
       "    .dataframe tbody tr th {\n",
       "        vertical-align: top;\n",
       "    }\n",
       "\n",
       "    .dataframe thead th {\n",
       "        text-align: right;\n",
       "    }\n",
       "</style>\n",
       "<table border=\"1\" class=\"dataframe\">\n",
       "  <thead>\n",
       "    <tr style=\"text-align: right;\">\n",
       "      <th></th>\n",
       "      <th>idx_in_block</th>\n",
       "      <th>num_sent_text</th>\n",
       "      <th>num_sent_summary</th>\n",
       "      <th>sent_ratio</th>\n",
       "    </tr>\n",
       "  </thead>\n",
       "  <tbody>\n",
       "    <tr>\n",
       "      <th>0</th>\n",
       "      <td>0</td>\n",
       "      <td>326</td>\n",
       "      <td>4</td>\n",
       "      <td>0.012270</td>\n",
       "    </tr>\n",
       "    <tr>\n",
       "      <th>1</th>\n",
       "      <td>1</td>\n",
       "      <td>29</td>\n",
       "      <td>5</td>\n",
       "      <td>0.172414</td>\n",
       "    </tr>\n",
       "    <tr>\n",
       "      <th>2</th>\n",
       "      <td>2</td>\n",
       "      <td>311</td>\n",
       "      <td>19</td>\n",
       "      <td>0.061093</td>\n",
       "    </tr>\n",
       "    <tr>\n",
       "      <th>3</th>\n",
       "      <td>3</td>\n",
       "      <td>338</td>\n",
       "      <td>72</td>\n",
       "      <td>0.213018</td>\n",
       "    </tr>\n",
       "    <tr>\n",
       "      <th>4</th>\n",
       "      <td>4</td>\n",
       "      <td>141</td>\n",
       "      <td>19</td>\n",
       "      <td>0.134752</td>\n",
       "    </tr>\n",
       "    <tr>\n",
       "      <th>...</th>\n",
       "      <td>...</td>\n",
       "      <td>...</td>\n",
       "      <td>...</td>\n",
       "      <td>...</td>\n",
       "    </tr>\n",
       "    <tr>\n",
       "      <th>2054</th>\n",
       "      <td>2054</td>\n",
       "      <td>298</td>\n",
       "      <td>15</td>\n",
       "      <td>0.050336</td>\n",
       "    </tr>\n",
       "    <tr>\n",
       "      <th>2055</th>\n",
       "      <td>2055</td>\n",
       "      <td>42</td>\n",
       "      <td>12</td>\n",
       "      <td>0.285714</td>\n",
       "    </tr>\n",
       "    <tr>\n",
       "      <th>2056</th>\n",
       "      <td>2056</td>\n",
       "      <td>53</td>\n",
       "      <td>10</td>\n",
       "      <td>0.188679</td>\n",
       "    </tr>\n",
       "    <tr>\n",
       "      <th>2057</th>\n",
       "      <td>2057</td>\n",
       "      <td>313</td>\n",
       "      <td>2</td>\n",
       "      <td>0.006390</td>\n",
       "    </tr>\n",
       "    <tr>\n",
       "      <th>2058</th>\n",
       "      <td>2058</td>\n",
       "      <td>76</td>\n",
       "      <td>10</td>\n",
       "      <td>0.131579</td>\n",
       "    </tr>\n",
       "  </tbody>\n",
       "</table>\n",
       "<p>2059 rows × 4 columns</p>\n",
       "</div>"
      ],
      "text/plain": [
       "      idx_in_block  num_sent_text  num_sent_summary  sent_ratio\n",
       "0                0            326                 4    0.012270\n",
       "1                1             29                 5    0.172414\n",
       "2                2            311                19    0.061093\n",
       "3                3            338                72    0.213018\n",
       "4                4            141                19    0.134752\n",
       "...            ...            ...               ...         ...\n",
       "2054          2054            298                15    0.050336\n",
       "2055          2055             42                12    0.285714\n",
       "2056          2056             53                10    0.188679\n",
       "2057          2057            313                 2    0.006390\n",
       "2058          2058             76                10    0.131579\n",
       "\n",
       "[2059 rows x 4 columns]"
      ]
     },
     "execution_count": 15,
     "metadata": {},
     "output_type": "execute_result"
    }
   ],
   "source": [
    "main_df"
   ]
  },
  {
   "cell_type": "code",
   "execution_count": 16,
   "metadata": {},
   "outputs": [
    {
     "data": {
      "text/html": [
       "<div>\n",
       "<style scoped>\n",
       "    .dataframe tbody tr th:only-of-type {\n",
       "        vertical-align: middle;\n",
       "    }\n",
       "\n",
       "    .dataframe tbody tr th {\n",
       "        vertical-align: top;\n",
       "    }\n",
       "\n",
       "    .dataframe thead th {\n",
       "        text-align: right;\n",
       "    }\n",
       "</style>\n",
       "<table border=\"1\" class=\"dataframe\">\n",
       "  <thead>\n",
       "    <tr style=\"text-align: right;\">\n",
       "      <th></th>\n",
       "      <th>idx_in_block</th>\n",
       "      <th>num_sent_text</th>\n",
       "      <th>num_sent_summary</th>\n",
       "      <th>sent_ratio</th>\n",
       "    </tr>\n",
       "  </thead>\n",
       "  <tbody>\n",
       "    <tr>\n",
       "      <th>count</th>\n",
       "      <td>2059.000000</td>\n",
       "      <td>2059.000000</td>\n",
       "      <td>2059.000000</td>\n",
       "      <td>2059.000000</td>\n",
       "    </tr>\n",
       "    <tr>\n",
       "      <th>mean</th>\n",
       "      <td>1029.000000</td>\n",
       "      <td>221.826129</td>\n",
       "      <td>14.197183</td>\n",
       "      <td>0.099767</td>\n",
       "    </tr>\n",
       "    <tr>\n",
       "      <th>std</th>\n",
       "      <td>594.526422</td>\n",
       "      <td>269.213251</td>\n",
       "      <td>19.463129</td>\n",
       "      <td>0.114030</td>\n",
       "    </tr>\n",
       "    <tr>\n",
       "      <th>min</th>\n",
       "      <td>0.000000</td>\n",
       "      <td>3.000000</td>\n",
       "      <td>0.000000</td>\n",
       "      <td>0.000000</td>\n",
       "    </tr>\n",
       "    <tr>\n",
       "      <th>25%</th>\n",
       "      <td>514.500000</td>\n",
       "      <td>80.000000</td>\n",
       "      <td>3.000000</td>\n",
       "      <td>0.022648</td>\n",
       "    </tr>\n",
       "    <tr>\n",
       "      <th>50%</th>\n",
       "      <td>1029.000000</td>\n",
       "      <td>165.000000</td>\n",
       "      <td>8.000000</td>\n",
       "      <td>0.060606</td>\n",
       "    </tr>\n",
       "    <tr>\n",
       "      <th>75%</th>\n",
       "      <td>1543.500000</td>\n",
       "      <td>276.000000</td>\n",
       "      <td>19.000000</td>\n",
       "      <td>0.138288</td>\n",
       "    </tr>\n",
       "    <tr>\n",
       "      <th>max</th>\n",
       "      <td>2058.000000</td>\n",
       "      <td>4067.000000</td>\n",
       "      <td>358.000000</td>\n",
       "      <td>1.000000</td>\n",
       "    </tr>\n",
       "  </tbody>\n",
       "</table>\n",
       "</div>"
      ],
      "text/plain": [
       "       idx_in_block  num_sent_text  num_sent_summary   sent_ratio\n",
       "count   2059.000000    2059.000000       2059.000000  2059.000000\n",
       "mean    1029.000000     221.826129         14.197183     0.099767\n",
       "std      594.526422     269.213251         19.463129     0.114030\n",
       "min        0.000000       3.000000          0.000000     0.000000\n",
       "25%      514.500000      80.000000          3.000000     0.022648\n",
       "50%     1029.000000     165.000000          8.000000     0.060606\n",
       "75%     1543.500000     276.000000         19.000000     0.138288\n",
       "max     2058.000000    4067.000000        358.000000     1.000000"
      ]
     },
     "execution_count": 16,
     "metadata": {},
     "output_type": "execute_result"
    }
   ],
   "source": [
    "main_df.describe()"
   ]
  },
  {
   "cell_type": "code",
   "execution_count": 18,
   "metadata": {},
   "outputs": [],
   "source": [
    "filtered_data = load_pickle(\"../pickles/tosdr_v2_removed_1word.pickle\")"
   ]
  },
  {
   "cell_type": "code",
   "execution_count": 35,
   "metadata": {},
   "outputs": [],
   "source": [
    "outlier_indices = set()"
   ]
  },
  {
   "cell_type": "markdown",
   "metadata": {},
   "source": [
    "## # sentences in text"
   ]
  },
  {
   "cell_type": "code",
   "execution_count": 34,
   "metadata": {},
   "outputs": [
    {
     "data": {
      "text/plain": [
       "<AxesSubplot:>"
      ]
     },
     "execution_count": 34,
     "metadata": {},
     "output_type": "execute_result"
    },
    {
     "data": {
      "image/png": "[encoded data removed]",
      "text/plain": [
       "<Figure size 640x480 with 1 Axes>"
      ]
     },
     "metadata": {},
     "output_type": "display_data"
    }
   ],
   "source": [
    "main_df.boxplot(column='num_sent_text')"
   ]
  },
  {
   "cell_type": "code",
   "execution_count": 53,
   "metadata": {},
   "outputs": [
    {
     "data": {
      "text/plain": [
       "10.580000000000002"
      ]
     },
     "execution_count": 53,
     "metadata": {},
     "output_type": "execute_result"
    }
   ],
   "source": [
    "main_df[\"num_sent_text\"].quantile(0.01)"
   ]
  },
  {
   "cell_type": "code",
   "execution_count": 48,
   "metadata": {},
   "outputs": [
    {
     "data": {
      "text/html": [
       "<div>\n",
       "<style scoped>\n",
       "    .dataframe tbody tr th:only-of-type {\n",
       "        vertical-align: middle;\n",
       "    }\n",
       "\n",
       "    .dataframe tbody tr th {\n",
       "        vertical-align: top;\n",
       "    }\n",
       "\n",
       "    .dataframe thead th {\n",
       "        text-align: right;\n",
       "    }\n",
       "</style>\n",
       "<table border=\"1\" class=\"dataframe\">\n",
       "  <thead>\n",
       "    <tr style=\"text-align: right;\">\n",
       "      <th></th>\n",
       "      <th>idx_in_block</th>\n",
       "      <th>num_sent_text</th>\n",
       "      <th>num_sent_summary</th>\n",
       "      <th>sent_ratio</th>\n",
       "    </tr>\n",
       "  </thead>\n",
       "  <tbody>\n",
       "    <tr>\n",
       "      <th>39</th>\n",
       "      <td>39</td>\n",
       "      <td>6</td>\n",
       "      <td>2</td>\n",
       "      <td>0.333333</td>\n",
       "    </tr>\n",
       "    <tr>\n",
       "      <th>135</th>\n",
       "      <td>135</td>\n",
       "      <td>6</td>\n",
       "      <td>2</td>\n",
       "      <td>0.333333</td>\n",
       "    </tr>\n",
       "    <tr>\n",
       "      <th>217</th>\n",
       "      <td>217</td>\n",
       "      <td>6</td>\n",
       "      <td>1</td>\n",
       "      <td>0.166667</td>\n",
       "    </tr>\n",
       "    <tr>\n",
       "      <th>350</th>\n",
       "      <td>350</td>\n",
       "      <td>4</td>\n",
       "      <td>3</td>\n",
       "      <td>0.750000</td>\n",
       "    </tr>\n",
       "    <tr>\n",
       "      <th>832</th>\n",
       "      <td>832</td>\n",
       "      <td>3</td>\n",
       "      <td>1</td>\n",
       "      <td>0.333333</td>\n",
       "    </tr>\n",
       "    <tr>\n",
       "      <th>950</th>\n",
       "      <td>950</td>\n",
       "      <td>8</td>\n",
       "      <td>1</td>\n",
       "      <td>0.125000</td>\n",
       "    </tr>\n",
       "    <tr>\n",
       "      <th>1058</th>\n",
       "      <td>1058</td>\n",
       "      <td>7</td>\n",
       "      <td>4</td>\n",
       "      <td>0.571429</td>\n",
       "    </tr>\n",
       "    <tr>\n",
       "      <th>1187</th>\n",
       "      <td>1187</td>\n",
       "      <td>4</td>\n",
       "      <td>3</td>\n",
       "      <td>0.750000</td>\n",
       "    </tr>\n",
       "    <tr>\n",
       "      <th>1209</th>\n",
       "      <td>1209</td>\n",
       "      <td>7</td>\n",
       "      <td>1</td>\n",
       "      <td>0.142857</td>\n",
       "    </tr>\n",
       "    <tr>\n",
       "      <th>1234</th>\n",
       "      <td>1234</td>\n",
       "      <td>9</td>\n",
       "      <td>3</td>\n",
       "      <td>0.333333</td>\n",
       "    </tr>\n",
       "    <tr>\n",
       "      <th>1260</th>\n",
       "      <td>1260</td>\n",
       "      <td>7</td>\n",
       "      <td>4</td>\n",
       "      <td>0.571429</td>\n",
       "    </tr>\n",
       "    <tr>\n",
       "      <th>1270</th>\n",
       "      <td>1270</td>\n",
       "      <td>8</td>\n",
       "      <td>1</td>\n",
       "      <td>0.125000</td>\n",
       "    </tr>\n",
       "    <tr>\n",
       "      <th>1340</th>\n",
       "      <td>1340</td>\n",
       "      <td>8</td>\n",
       "      <td>1</td>\n",
       "      <td>0.125000</td>\n",
       "    </tr>\n",
       "    <tr>\n",
       "      <th>1765</th>\n",
       "      <td>1765</td>\n",
       "      <td>6</td>\n",
       "      <td>1</td>\n",
       "      <td>0.166667</td>\n",
       "    </tr>\n",
       "    <tr>\n",
       "      <th>1773</th>\n",
       "      <td>1773</td>\n",
       "      <td>5</td>\n",
       "      <td>5</td>\n",
       "      <td>1.000000</td>\n",
       "    </tr>\n",
       "    <tr>\n",
       "      <th>1826</th>\n",
       "      <td>1826</td>\n",
       "      <td>9</td>\n",
       "      <td>4</td>\n",
       "      <td>0.444444</td>\n",
       "    </tr>\n",
       "    <tr>\n",
       "      <th>1855</th>\n",
       "      <td>1855</td>\n",
       "      <td>9</td>\n",
       "      <td>5</td>\n",
       "      <td>0.555556</td>\n",
       "    </tr>\n",
       "    <tr>\n",
       "      <th>1872</th>\n",
       "      <td>1872</td>\n",
       "      <td>6</td>\n",
       "      <td>2</td>\n",
       "      <td>0.333333</td>\n",
       "    </tr>\n",
       "    <tr>\n",
       "      <th>1897</th>\n",
       "      <td>1897</td>\n",
       "      <td>6</td>\n",
       "      <td>2</td>\n",
       "      <td>0.333333</td>\n",
       "    </tr>\n",
       "  </tbody>\n",
       "</table>\n",
       "</div>"
      ],
      "text/plain": [
       "      idx_in_block  num_sent_text  num_sent_summary  sent_ratio\n",
       "39              39              6                 2    0.333333\n",
       "135            135              6                 2    0.333333\n",
       "217            217              6                 1    0.166667\n",
       "350            350              4                 3    0.750000\n",
       "832            832              3                 1    0.333333\n",
       "950            950              8                 1    0.125000\n",
       "1058          1058              7                 4    0.571429\n",
       "1187          1187              4                 3    0.750000\n",
       "1209          1209              7                 1    0.142857\n",
       "1234          1234              9                 3    0.333333\n",
       "1260          1260              7                 4    0.571429\n",
       "1270          1270              8                 1    0.125000\n",
       "1340          1340              8                 1    0.125000\n",
       "1765          1765              6                 1    0.166667\n",
       "1773          1773              5                 5    1.000000\n",
       "1826          1826              9                 4    0.444444\n",
       "1855          1855              9                 5    0.555556\n",
       "1872          1872              6                 2    0.333333\n",
       "1897          1897              6                 2    0.333333"
      ]
     },
     "execution_count": 48,
     "metadata": {},
     "output_type": "execute_result"
    }
   ],
   "source": [
    "main_df.loc[main_df['num_sent_text'] < 10]"
   ]
  },
  {
   "cell_type": "code",
   "execution_count": 57,
   "metadata": {},
   "outputs": [],
   "source": [
    "outlier_indices.update(main_df.loc[main_df['num_sent_text'] < 10]['idx_in_block'].tolist())"
   ]
  },
  {
   "cell_type": "markdown",
   "metadata": {},
   "source": [
    "## # sentences in summary"
   ]
  },
  {
   "cell_type": "code",
   "execution_count": 60,
   "metadata": {},
   "outputs": [
    {
     "data": {
      "text/html": [
       "<div>\n",
       "<style scoped>\n",
       "    .dataframe tbody tr th:only-of-type {\n",
       "        vertical-align: middle;\n",
       "    }\n",
       "\n",
       "    .dataframe tbody tr th {\n",
       "        vertical-align: top;\n",
       "    }\n",
       "\n",
       "    .dataframe thead th {\n",
       "        text-align: right;\n",
       "    }\n",
       "</style>\n",
       "<table border=\"1\" class=\"dataframe\">\n",
       "  <thead>\n",
       "    <tr style=\"text-align: right;\">\n",
       "      <th></th>\n",
       "      <th>idx_in_block</th>\n",
       "      <th>num_sent_text</th>\n",
       "      <th>num_sent_summary</th>\n",
       "      <th>sent_ratio</th>\n",
       "    </tr>\n",
       "  </thead>\n",
       "  <tbody>\n",
       "    <tr>\n",
       "      <th>688</th>\n",
       "      <td>688</td>\n",
       "      <td>224</td>\n",
       "      <td>0</td>\n",
       "      <td>0.0</td>\n",
       "    </tr>\n",
       "  </tbody>\n",
       "</table>\n",
       "</div>"
      ],
      "text/plain": [
       "     idx_in_block  num_sent_text  num_sent_summary  sent_ratio\n",
       "688           688            224                 0         0.0"
      ]
     },
     "execution_count": 60,
     "metadata": {},
     "output_type": "execute_result"
    }
   ],
   "source": [
    "main_df.loc[main_df[\"num_sent_summary\"] == 0]"
   ]
  },
  {
   "cell_type": "code",
   "execution_count": 61,
   "metadata": {},
   "outputs": [],
   "source": [
    "outlier_indices.update(main_df.loc[main_df[\"num_sent_summary\"] == 0][\"idx_in_block\"].tolist())"
   ]
  },
  {
   "cell_type": "markdown",
   "metadata": {},
   "source": [
    "## sentence ratio"
   ]
  },
  {
   "cell_type": "code",
   "execution_count": 78,
   "metadata": {},
   "outputs": [
    {
     "data": {
      "text/plain": [
       "0.5176315789473692"
      ]
     },
     "execution_count": 78,
     "metadata": {},
     "output_type": "execute_result"
    }
   ],
   "source": [
    "main_df['sent_ratio'].quantile(0.99)"
   ]
  },
  {
   "cell_type": "code",
   "execution_count": 77,
   "metadata": {},
   "outputs": [
    {
     "data": {
      "text/html": [
       "<div>\n",
       "<style scoped>\n",
       "    .dataframe tbody tr th:only-of-type {\n",
       "        vertical-align: middle;\n",
       "    }\n",
       "\n",
       "    .dataframe tbody tr th {\n",
       "        vertical-align: top;\n",
       "    }\n",
       "\n",
       "    .dataframe thead th {\n",
       "        text-align: right;\n",
       "    }\n",
       "</style>\n",
       "<table border=\"1\" class=\"dataframe\">\n",
       "  <thead>\n",
       "    <tr style=\"text-align: right;\">\n",
       "      <th></th>\n",
       "      <th>idx_in_block</th>\n",
       "      <th>num_sent_text</th>\n",
       "      <th>num_sent_summary</th>\n",
       "      <th>sent_ratio</th>\n",
       "    </tr>\n",
       "  </thead>\n",
       "  <tbody>\n",
       "    <tr>\n",
       "      <th>26</th>\n",
       "      <td>26</td>\n",
       "      <td>147</td>\n",
       "      <td>147</td>\n",
       "      <td>1.000000</td>\n",
       "    </tr>\n",
       "    <tr>\n",
       "      <th>225</th>\n",
       "      <td>225</td>\n",
       "      <td>13</td>\n",
       "      <td>13</td>\n",
       "      <td>1.000000</td>\n",
       "    </tr>\n",
       "    <tr>\n",
       "      <th>287</th>\n",
       "      <td>287</td>\n",
       "      <td>222</td>\n",
       "      <td>179</td>\n",
       "      <td>0.806306</td>\n",
       "    </tr>\n",
       "    <tr>\n",
       "      <th>350</th>\n",
       "      <td>350</td>\n",
       "      <td>4</td>\n",
       "      <td>3</td>\n",
       "      <td>0.750000</td>\n",
       "    </tr>\n",
       "    <tr>\n",
       "      <th>693</th>\n",
       "      <td>693</td>\n",
       "      <td>15</td>\n",
       "      <td>9</td>\n",
       "      <td>0.600000</td>\n",
       "    </tr>\n",
       "    <tr>\n",
       "      <th>802</th>\n",
       "      <td>802</td>\n",
       "      <td>60</td>\n",
       "      <td>38</td>\n",
       "      <td>0.633333</td>\n",
       "    </tr>\n",
       "    <tr>\n",
       "      <th>908</th>\n",
       "      <td>908</td>\n",
       "      <td>293</td>\n",
       "      <td>254</td>\n",
       "      <td>0.866894</td>\n",
       "    </tr>\n",
       "    <tr>\n",
       "      <th>909</th>\n",
       "      <td>909</td>\n",
       "      <td>387</td>\n",
       "      <td>358</td>\n",
       "      <td>0.925065</td>\n",
       "    </tr>\n",
       "    <tr>\n",
       "      <th>1151</th>\n",
       "      <td>1151</td>\n",
       "      <td>46</td>\n",
       "      <td>34</td>\n",
       "      <td>0.739130</td>\n",
       "    </tr>\n",
       "    <tr>\n",
       "      <th>1187</th>\n",
       "      <td>1187</td>\n",
       "      <td>4</td>\n",
       "      <td>3</td>\n",
       "      <td>0.750000</td>\n",
       "    </tr>\n",
       "    <tr>\n",
       "      <th>1486</th>\n",
       "      <td>1486</td>\n",
       "      <td>17</td>\n",
       "      <td>12</td>\n",
       "      <td>0.705882</td>\n",
       "    </tr>\n",
       "    <tr>\n",
       "      <th>1773</th>\n",
       "      <td>1773</td>\n",
       "      <td>5</td>\n",
       "      <td>5</td>\n",
       "      <td>1.000000</td>\n",
       "    </tr>\n",
       "    <tr>\n",
       "      <th>2002</th>\n",
       "      <td>2002</td>\n",
       "      <td>15</td>\n",
       "      <td>12</td>\n",
       "      <td>0.800000</td>\n",
       "    </tr>\n",
       "  </tbody>\n",
       "</table>\n",
       "</div>"
      ],
      "text/plain": [
       "      idx_in_block  num_sent_text  num_sent_summary  sent_ratio\n",
       "26              26            147               147    1.000000\n",
       "225            225             13                13    1.000000\n",
       "287            287            222               179    0.806306\n",
       "350            350              4                 3    0.750000\n",
       "693            693             15                 9    0.600000\n",
       "802            802             60                38    0.633333\n",
       "908            908            293               254    0.866894\n",
       "909            909            387               358    0.925065\n",
       "1151          1151             46                34    0.739130\n",
       "1187          1187              4                 3    0.750000\n",
       "1486          1486             17                12    0.705882\n",
       "1773          1773              5                 5    1.000000\n",
       "2002          2002             15                12    0.800000"
      ]
     },
     "execution_count": 77,
     "metadata": {},
     "output_type": "execute_result"
    }
   ],
   "source": [
    "main_df.loc[main_df['sent_ratio'] >= 0.6]"
   ]
  },
  {
   "cell_type": "code",
   "execution_count": 79,
   "metadata": {},
   "outputs": [],
   "source": [
    "outlier_indices.update(main_df.loc[main_df['sent_ratio'] >= 0.7]['idx_in_block'].tolist())"
   ]
  },
  {
   "cell_type": "code",
   "execution_count": 80,
   "metadata": {},
   "outputs": [
    {
     "data": {
      "text/plain": [
       "{26,\n",
       " 39,\n",
       " 135,\n",
       " 217,\n",
       " 225,\n",
       " 287,\n",
       " 350,\n",
       " 688,\n",
       " 832,\n",
       " 908,\n",
       " 909,\n",
       " 950,\n",
       " 1058,\n",
       " 1151,\n",
       " 1187,\n",
       " 1209,\n",
       " 1234,\n",
       " 1260,\n",
       " 1270,\n",
       " 1340,\n",
       " 1486,\n",
       " 1765,\n",
       " 1773,\n",
       " 1826,\n",
       " 1855,\n",
       " 1872,\n",
       " 1897,\n",
       " 2002}"
      ]
     },
     "execution_count": 80,
     "metadata": {},
     "output_type": "execute_result"
    }
   ],
   "source": [
    "outlier_indices"
   ]
  },
  {
   "cell_type": "markdown",
   "metadata": {},
   "source": [
    "# Final filtered output"
   ]
  },
  {
   "cell_type": "code",
   "execution_count": 84,
   "metadata": {},
   "outputs": [],
   "source": [
    "final_df = main_df.drop(outlier_indices)"
   ]
  },
  {
   "cell_type": "code",
   "execution_count": 86,
   "metadata": {},
   "outputs": [
    {
     "data": {
      "text/html": [
       "<div>\n",
       "<style scoped>\n",
       "    .dataframe tbody tr th:only-of-type {\n",
       "        vertical-align: middle;\n",
       "    }\n",
       "\n",
       "    .dataframe tbody tr th {\n",
       "        vertical-align: top;\n",
       "    }\n",
       "\n",
       "    .dataframe thead th {\n",
       "        text-align: right;\n",
       "    }\n",
       "</style>\n",
       "<table border=\"1\" class=\"dataframe\">\n",
       "  <thead>\n",
       "    <tr style=\"text-align: right;\">\n",
       "      <th></th>\n",
       "      <th>idx_in_block</th>\n",
       "      <th>num_sent_text</th>\n",
       "      <th>num_sent_summary</th>\n",
       "      <th>sent_ratio</th>\n",
       "    </tr>\n",
       "  </thead>\n",
       "  <tbody>\n",
       "    <tr>\n",
       "      <th>0</th>\n",
       "      <td>0</td>\n",
       "      <td>326</td>\n",
       "      <td>4</td>\n",
       "      <td>0.012270</td>\n",
       "    </tr>\n",
       "    <tr>\n",
       "      <th>1</th>\n",
       "      <td>1</td>\n",
       "      <td>29</td>\n",
       "      <td>5</td>\n",
       "      <td>0.172414</td>\n",
       "    </tr>\n",
       "    <tr>\n",
       "      <th>2</th>\n",
       "      <td>2</td>\n",
       "      <td>311</td>\n",
       "      <td>19</td>\n",
       "      <td>0.061093</td>\n",
       "    </tr>\n",
       "    <tr>\n",
       "      <th>3</th>\n",
       "      <td>3</td>\n",
       "      <td>338</td>\n",
       "      <td>72</td>\n",
       "      <td>0.213018</td>\n",
       "    </tr>\n",
       "    <tr>\n",
       "      <th>4</th>\n",
       "      <td>4</td>\n",
       "      <td>141</td>\n",
       "      <td>19</td>\n",
       "      <td>0.134752</td>\n",
       "    </tr>\n",
       "    <tr>\n",
       "      <th>...</th>\n",
       "      <td>...</td>\n",
       "      <td>...</td>\n",
       "      <td>...</td>\n",
       "      <td>...</td>\n",
       "    </tr>\n",
       "    <tr>\n",
       "      <th>2054</th>\n",
       "      <td>2054</td>\n",
       "      <td>298</td>\n",
       "      <td>15</td>\n",
       "      <td>0.050336</td>\n",
       "    </tr>\n",
       "    <tr>\n",
       "      <th>2055</th>\n",
       "      <td>2055</td>\n",
       "      <td>42</td>\n",
       "      <td>12</td>\n",
       "      <td>0.285714</td>\n",
       "    </tr>\n",
       "    <tr>\n",
       "      <th>2056</th>\n",
       "      <td>2056</td>\n",
       "      <td>53</td>\n",
       "      <td>10</td>\n",
       "      <td>0.188679</td>\n",
       "    </tr>\n",
       "    <tr>\n",
       "      <th>2057</th>\n",
       "      <td>2057</td>\n",
       "      <td>313</td>\n",
       "      <td>2</td>\n",
       "      <td>0.006390</td>\n",
       "    </tr>\n",
       "    <tr>\n",
       "      <th>2058</th>\n",
       "      <td>2058</td>\n",
       "      <td>76</td>\n",
       "      <td>10</td>\n",
       "      <td>0.131579</td>\n",
       "    </tr>\n",
       "  </tbody>\n",
       "</table>\n",
       "<p>2031 rows × 4 columns</p>\n",
       "</div>"
      ],
      "text/plain": [
       "      idx_in_block  num_sent_text  num_sent_summary  sent_ratio\n",
       "0                0            326                 4    0.012270\n",
       "1                1             29                 5    0.172414\n",
       "2                2            311                19    0.061093\n",
       "3                3            338                72    0.213018\n",
       "4                4            141                19    0.134752\n",
       "...            ...            ...               ...         ...\n",
       "2054          2054            298                15    0.050336\n",
       "2055          2055             42                12    0.285714\n",
       "2056          2056             53                10    0.188679\n",
       "2057          2057            313                 2    0.006390\n",
       "2058          2058             76                10    0.131579\n",
       "\n",
       "[2031 rows x 4 columns]"
      ]
     },
     "execution_count": 86,
     "metadata": {},
     "output_type": "execute_result"
    }
   ],
   "source": [
    "final_df"
   ]
  },
  {
   "cell_type": "code",
   "execution_count": 87,
   "metadata": {},
   "outputs": [
    {
     "data": {
      "text/html": [
       "<div>\n",
       "<style scoped>\n",
       "    .dataframe tbody tr th:only-of-type {\n",
       "        vertical-align: middle;\n",
       "    }\n",
       "\n",
       "    .dataframe tbody tr th {\n",
       "        vertical-align: top;\n",
       "    }\n",
       "\n",
       "    .dataframe thead th {\n",
       "        text-align: right;\n",
       "    }\n",
       "</style>\n",
       "<table border=\"1\" class=\"dataframe\">\n",
       "  <thead>\n",
       "    <tr style=\"text-align: right;\">\n",
       "      <th></th>\n",
       "      <th>idx_in_block</th>\n",
       "      <th>num_sent_text</th>\n",
       "      <th>num_sent_summary</th>\n",
       "      <th>sent_ratio</th>\n",
       "    </tr>\n",
       "  </thead>\n",
       "  <tbody>\n",
       "    <tr>\n",
       "      <th>count</th>\n",
       "      <td>2031.000000</td>\n",
       "      <td>2031.000000</td>\n",
       "      <td>2031.000000</td>\n",
       "      <td>2031.000000</td>\n",
       "    </tr>\n",
       "    <tr>\n",
       "      <th>mean</th>\n",
       "      <td>1028.537666</td>\n",
       "      <td>224.151649</td>\n",
       "      <td>13.873461</td>\n",
       "      <td>0.094083</td>\n",
       "    </tr>\n",
       "    <tr>\n",
       "      <th>std</th>\n",
       "      <td>594.214698</td>\n",
       "      <td>270.072216</td>\n",
       "      <td>16.543814</td>\n",
       "      <td>0.097406</td>\n",
       "    </tr>\n",
       "    <tr>\n",
       "      <th>min</th>\n",
       "      <td>0.000000</td>\n",
       "      <td>10.000000</td>\n",
       "      <td>1.000000</td>\n",
       "      <td>0.000838</td>\n",
       "    </tr>\n",
       "    <tr>\n",
       "      <th>25%</th>\n",
       "      <td>514.500000</td>\n",
       "      <td>82.000000</td>\n",
       "      <td>3.000000</td>\n",
       "      <td>0.022490</td>\n",
       "    </tr>\n",
       "    <tr>\n",
       "      <th>50%</th>\n",
       "      <td>1027.000000</td>\n",
       "      <td>166.000000</td>\n",
       "      <td>8.000000</td>\n",
       "      <td>0.059406</td>\n",
       "    </tr>\n",
       "    <tr>\n",
       "      <th>75%</th>\n",
       "      <td>1543.500000</td>\n",
       "      <td>278.000000</td>\n",
       "      <td>19.000000</td>\n",
       "      <td>0.135028</td>\n",
       "    </tr>\n",
       "    <tr>\n",
       "      <th>max</th>\n",
       "      <td>2058.000000</td>\n",
       "      <td>4067.000000</td>\n",
       "      <td>192.000000</td>\n",
       "      <td>0.633333</td>\n",
       "    </tr>\n",
       "  </tbody>\n",
       "</table>\n",
       "</div>"
      ],
      "text/plain": [
       "       idx_in_block  num_sent_text  num_sent_summary   sent_ratio\n",
       "count   2031.000000    2031.000000       2031.000000  2031.000000\n",
       "mean    1028.537666     224.151649         13.873461     0.094083\n",
       "std      594.214698     270.072216         16.543814     0.097406\n",
       "min        0.000000      10.000000          1.000000     0.000838\n",
       "25%      514.500000      82.000000          3.000000     0.022490\n",
       "50%     1027.000000     166.000000          8.000000     0.059406\n",
       "75%     1543.500000     278.000000         19.000000     0.135028\n",
       "max     2058.000000    4067.000000        192.000000     0.633333"
      ]
     },
     "execution_count": 87,
     "metadata": {},
     "output_type": "execute_result"
    }
   ],
   "source": [
    "final_df.describe()"
   ]
  }
 ],
 "metadata": {
  "kernelspec": {
   "display_name": "Python 3.9.15 ('tos-crawler')",
   "language": "python",
   "name": "python3"
  },
  "language_info": {
   "codemirror_mode": {
    "name": "ipython",
    "version": 3
   },
   "file_extension": ".py",
   "mimetype": "text/x-python",
   "name": "python",
   "nbconvert_exporter": "python",
   "pygments_lexer": "ipython3",
   "version": "3.9.15"
  },
  "orig_nbformat": 4,
  "vscode": {
   "interpreter": {
    "hash": "a3422587c0fe707bac8ec481cdb4c200afe8c708c1d4ed1086574e746f434418"
   }
  }
 },
 "nbformat": 4,
 "nbformat_minor": 2
}
